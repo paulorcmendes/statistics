{
 "cells": [
  {
   "cell_type": "code",
   "execution_count": 1,
   "id": "bd4f5f00",
   "metadata": {},
   "outputs": [],
   "source": [
    "from scipy.stats import poisson\n",
    "import matplotlib.pyplot as plt\n",
    "import numpy as np"
   ]
  },
  {
   "cell_type": "markdown",
   "id": "415adc69",
   "metadata": {},
   "source": [
    "## Problem\n",
    "\n",
    "Given that a couple kisses 60 times on average per week. What is the probability of that couple kissing exactly 20 times and at least 20 times on the remaining 4 days of this week."
   ]
  },
  {
   "cell_type": "code",
   "execution_count": 2,
   "id": "b21e4850",
   "metadata": {},
   "outputs": [
    {
     "name": "stdout",
     "output_type": "stream",
     "text": [
      "Total number of weekly kisses: 60\n"
     ]
    }
   ],
   "source": [
    "weekly_kisses = 60\n",
    "daily_kisses = weekly_kisses/7\n",
    "days = 4 \n",
    "lamb = daily_kisses*days\n",
    "\n",
    "mean, var, skew, kurt = poisson.stats(lamb, moments='mvsk')\n",
    "print(f\"Total number of weekly kisses: {weekly_kisses}\")"
   ]
  },
  {
   "cell_type": "code",
   "execution_count": 3,
   "id": "990a5cae",
   "metadata": {},
   "outputs": [],
   "source": [
    "my_poisson = poisson(lamb)\n",
    "x = np.arange(my_poisson.ppf(0.01), my_poisson.ppf(0.99))\n"
   ]
  },
  {
   "cell_type": "code",
   "execution_count": 4,
   "id": "cc713b94",
   "metadata": {},
   "outputs": [
    {
     "data": {
      "image/png": "[encoded data removed]",
      "text/plain": [
       "<Figure size 432x288 with 1 Axes>"
      ]
     },
     "metadata": {
      "needs_background": "light"
     },
     "output_type": "display_data"
    }
   ],
   "source": [
    "plt.bar(x, my_poisson.pmf(x)*100)\n",
    "plt.xlabel(\"number of kisses (k)\")\n",
    "plt.ylabel(\"probability %\")\n",
    "_ = plt.title(f\"Probability of having exactly k kisses on the {days} last days of the week\")"
   ]
  },
  {
   "cell_type": "code",
   "execution_count": 5,
   "id": "7949db9d",
   "metadata": {},
   "outputs": [
    {
     "name": "stdout",
     "output_type": "stream",
     "text": [
      "Probability of exactly 20 kisses: 0.26671%\n",
      "Probability at least 20 kisses: 99.6725%\n"
     ]
    }
   ],
   "source": [
    "k = 20\n",
    "exactly_k = my_poisson.pmf(k)\n",
    "at_least_k = 1 - my_poisson.cdf(k-1)\n",
    "print(f\"Probability of exactly {k} kisses: {np.round(exactly_k*100, 5)}%\")\n",
    "print(f\"Probability at least {k} kisses: {np.round(at_least_k*100, 5)}%\")"
   ]
  },
  {
   "cell_type": "code",
   "execution_count": null,
   "id": "03a5f1ca",
   "metadata": {},
   "outputs": [],
   "source": []
  }
 ],
 "metadata": {
  "kernelspec": {
   "display_name": "Python 3",
   "language": "python",
   "name": "python3"
  },
  "language_info": {
   "codemirror_mode": {
    "name": "ipython",
    "version": 3
   },
   "file_extension": ".py",
   "mimetype": "text/x-python",
   "name": "python",
   "nbconvert_exporter": "python",
   "pygments_lexer": "ipython3",
   "version": "3.9.2"
  }
 },
 "nbformat": 4,
 "nbformat_minor": 5
}
