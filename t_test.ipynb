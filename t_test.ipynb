{
 "cells": [
  {
   "cell_type": "code",
   "execution_count": 1,
   "id": "342df111",
   "metadata": {},
   "outputs": [],
   "source": [
    "import numpy as np\n",
    "import pandas as pd\n",
    "from scipy import stats"
   ]
  },
  {
   "cell_type": "code",
   "execution_count": 2,
   "id": "aac219a7",
   "metadata": {},
   "outputs": [
    {
     "name": "stdout",
     "output_type": "stream",
     "text": [
      "Total population size: 100000\n",
      "Group A size: 20000\n",
      "Group B size: 80000\n"
     ]
    }
   ],
   "source": [
    "total_size = 10**5\n",
    "\n",
    "a_proportion = 0.2\n",
    "a_size = int(a_proportion*total_size)\n",
    "b_size = total_size-a_size\n",
    "\n",
    "print(f\"Total population size: {total_size}\\nGroup A size: {a_size}\\nGroup B size: {b_size}\")"
   ]
  },
  {
   "cell_type": "code",
   "execution_count": 3,
   "id": "71e1dec5",
   "metadata": {},
   "outputs": [
    {
     "name": "stdout",
     "output_type": "stream",
     "text": [
      "Mean of a originally: 0.0184\n",
      "Mean of b originally: 0.016\n"
     ]
    }
   ],
   "source": [
    "b_mean = 0.016\n",
    "a_mean = b_mean * 1.15 #Group a has a mean 15% higher than b\n",
    "print(f\"Mean of a originally: {a_mean}\")\n",
    "print(f\"Mean of b originally: {b_mean}\")"
   ]
  },
  {
   "cell_type": "code",
   "execution_count": 4,
   "id": "e2820ea3",
   "metadata": {},
   "outputs": [
    {
     "name": "stdout",
     "output_type": "stream",
     "text": [
      "Mean of group A: 0.01825\n",
      "Mean of group B: 0.0158375\n",
      "Lift of a over b: 0.1523283346487765\n"
     ]
    }
   ],
   "source": [
    "effect_a = np.random.poisson(lam = a_mean, size = a_size)\n",
    "effect_b = np.random.poisson(lam = b_mean, size = b_size)\n",
    "\n",
    "print(f\"Mean of group A: {effect_a.mean()}\\nMean of group B: {effect_b.mean()}\")\n",
    "print(f\"Lift of a over b: {(effect_a.mean()/effect_b.mean())-1}\")"
   ]
  },
  {
   "cell_type": "code",
   "execution_count": 5,
   "id": "f136e91e",
   "metadata": {},
   "outputs": [
    {
     "name": "stdout",
     "output_type": "stream",
     "text": [
      "We have obtained a p_value of: 0.016885131713190935\n",
      "We can reject the null hypothesis\n"
     ]
    }
   ],
   "source": [
    "t_stat, p_value = stats.ttest_ind(a = effect_a, b = effect_b)\n",
    "print(f\"We have obtained a p_value of: {p_value}\")\n",
    "\n",
    "if p_value < 0.05:\n",
    "    print(\"We can reject the null hypothesis\")\n",
    "else:\n",
    "    print(\"The null hypothesis cannot be rejected\")"
   ]
  },
  {
   "cell_type": "code",
   "execution_count": null,
   "id": "6e7efbaa",
   "metadata": {},
   "outputs": [],
   "source": []
  }
 ],
 "metadata": {
  "kernelspec": {
   "display_name": "Python 3",
   "language": "python",
   "name": "python3"
  },
  "language_info": {
   "codemirror_mode": {
    "name": "ipython",
    "version": 3
   },
   "file_extension": ".py",
   "mimetype": "text/x-python",
   "name": "python",
   "nbconvert_exporter": "python",
   "pygments_lexer": "ipython3",
   "version": "3.9.2"
  }
 },
 "nbformat": 4,
 "nbformat_minor": 5
}
